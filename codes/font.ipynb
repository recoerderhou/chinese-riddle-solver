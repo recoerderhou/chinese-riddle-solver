{
 "cells": [
  {
   "cell_type": "code",
   "execution_count": 1,
   "metadata": {},
   "outputs": [],
   "source": [
    "#coding=utf-8\n",
    "import pandas as pd\n",
    "import numpy as np\n",
    "\n",
    "train_csv =  \"/Users/daishuyu/Downloads/互联网数据挖掘作业3-1900013074-戴舒羽/dataset/train.csv\"\n",
    "val_csv = \"/Users/daishuyu/Downloads/互联网数据挖掘作业3-1900013074-戴舒羽/dataset/val.csv\"\n",
    "test_csv = \"/Users/daishuyu/Downloads/互联网数据挖掘作业3-1900013074-戴舒羽/dataset/test.csv\""
   ]
  },
  {
   "cell_type": "markdown",
   "metadata": {},
   "source": [
    "**一种比较naive的方式：直接拆字，比较是否在里面-直观，一些情况下有效**\n"
   ]
  },
  {
   "cell_type": "code",
   "execution_count": 2,
   "metadata": {},
   "outputs": [
    {
     "name": "stdout",
     "output_type": "stream",
     "text": [
      "[('丁', ['亅', '一'])]\n"
     ]
    }
   ],
   "source": [
    "cz_dict = {}#key:字形  value:拆出来的部首/笔画，可能有多种拆字方法，用'|'分开\n",
    "with open(\"chaizi_jt.txt\") as f:\n",
    "    lines = f.readlines()      #读取全部内容 ，并以列表方式返回\n",
    "    for line in lines:\n",
    "        line = line.replace('\\t',' ').strip('\\n').split(' ')\n",
    "        char = line[0]\n",
    "        char_cz = line[1:]\n",
    "        char_cz_set = set(char_cz)\n",
    "        char_cz = list(char_cz_set)\n",
    "        cz_dict[char] = char_cz \n",
    "print(list(cz_dict.items())[0:1])"
   ]
  },
  {
   "cell_type": "code",
   "execution_count": 3,
   "metadata": {},
   "outputs": [
    {
     "name": "stdout",
     "output_type": "stream",
     "text": [
      "['疋', '十', '走', '走', '走', '一', '口', '囗', '四', '儿', '西', '西', '西', '冂', '乛', '一', '丨', '口', '口', '口']\n"
     ]
    }
   ],
   "source": [
    "def get_query_cz(query):\n",
    "    query_cz = []\n",
    "\n",
    "    for char in query:    \n",
    "        if char in cz_dict:\n",
    "            query_cz.extend(cz_dict[char])\n",
    "        query_cz.append(char)\n",
    "        query_cz.append(char)\n",
    "        query_cz.append(char)\n",
    "    return query_cz\n",
    "\n",
    "print(get_query_cz(query = '走西口'))"
   ]
  },
  {
   "cell_type": "code",
   "execution_count": 4,
   "metadata": {},
   "outputs": [
    {
     "name": "stdout",
     "output_type": "stream",
     "text": [
      "([0, 0, 4, 0, 0], 2)\n",
      "([0, 0, 0, 3, 0], 3)\n",
      "([2, 6, 1, 0, 0], 1)\n",
      "([1, 0, 0, 0, 3], 4)\n",
      "([2, 1, 5, 5, 0], 2)\n",
      "([3, 3, 0, 0, 1], 0)\n",
      "([0, 0, 0, 0, 0], 0)\n"
     ]
    }
   ],
   "source": [
    "def cal_cz_best(query,c):\n",
    "    q_cz = get_query_cz(query)\n",
    "    c_scores = []\n",
    "    for i in range(5):\n",
    "        c_cz = get_query_cz(c[i])\n",
    "        c_scores.append(0)\n",
    "        for ch in q_cz:\n",
    "            if ch in c_cz:\n",
    "                c_scores[i] += c_cz.count(ch)\n",
    "    return c_scores,c_scores.index(max(c_scores))\n",
    "\n",
    "def test_cal_cz_best(query,c):\n",
    "    q_cz = get_query_cz(query)\n",
    "    c_scores = []\n",
    "    for i in range(5):\n",
    "        c_cz = get_query_cz(c[i])\n",
    "        c_scores.append(0)\n",
    "        for ch in q_cz:\n",
    "            if ch in c_cz:\n",
    "                c_scores[i] += c_cz.count(ch)          \n",
    "    return c_scores,c_scores.index(max(c_scores))\n",
    "\n",
    "#正确示例\n",
    "print(cal_cz_best(query='皇',c=['赛雪','如瓷','白玉无瑕','红装素裹','吹弹得破']))\n",
    "print(cal_cz_best(query='铆',c=['梅花鹿','旺旺','琉璃摆件','金兔','小貔貅']))\n",
    "print(cal_cz_best(query='明',c=['一朝一夕','日积月累','三天打鱼，两天晒网','潜移默化','慢慢的我']))#干扰项“朝”，通过增大字本身权重保证正确性\n",
    "print(cal_cz_best(query='昔',c=['心惊胆寒','突如其来','意料之外','人仰马翻','措手不及']))#干扰项“胆”，通过增大字本身权重保证正确性\n",
    "\n",
    "#错误示例\n",
    "##并列-给出候选答案\n",
    "print(cal_cz_best(query='几',c=['忘乎所以','厚颜无耻','饥不择食','人面兽心','劫色']))\n",
    "print(cal_cz_best(query='忘',c=['感恩戴德','死心塌地','委曲求全','不计前嫌','动了情']))#亡和死在语义上接近\n",
    "##字形方法无法处理\n",
    "print(cal_cz_best(query='十',c=['层叠','坑坑洼洼','狭长','密密麻麻','纵横交错']))#语义解释字形"
   ]
  },
  {
   "cell_type": "markdown",
   "metadata": {},
   "source": [
    "在训练集和验证集上检测准确率"
   ]
  },
  {
   "cell_type": "code",
   "execution_count": 5,
   "metadata": {},
   "outputs": [
    {
     "name": "stdout",
     "output_type": "stream",
     "text": [
      "(4000, 7)\n",
      "(500, 7)\n",
      "(79, 7)   riddle choice0 choice1 choice2 choice3 choice4  label\n",
      "9      皇      赛雪      如瓷    白玉无瑕    红装素裹    吹弹得破      2\n",
      "(2434, 7)    riddle choice0 choice1 choice2 choice3 choice4  label\n",
      "0  火把接力传递    付之一炬    流离失所      焚毁      掠走    苦心经营      0\n",
      "(1487, 7)                              riddle choice0 choice1 choice2 choice3 choice4  \\\n",
      "4  不是鱼鳔打个结，不是泥鳅泥里歇，不是蚕虫又吐丝，不是蜂窝多洞穴。      冬笋       藕      茨菇      荸荠      茭白   \n",
      "\n",
      "   label  \n",
      "4      1  \n"
     ]
    }
   ],
   "source": [
    "train_df = pd.read_csv(train_csv,header=0,sep=',') #header=None表示头部为空，sep=','表示数据间使用逗号作为分隔符\n",
    "print(train_df.shape)\n",
    "val_df = pd.read_csv(val_csv,header=0,sep=',') #header=None表示头部为空，sep=','表示数据间使用逗号作为分隔符\n",
    "print(val_df.shape)\n",
    "\n",
    "ls=[]\n",
    "lssmall = []\n",
    "lssent = []\n",
    "\n",
    "for i in range(train_df.shape[0]):\n",
    "    string = train_df.iloc[i,0]\n",
    "    index = string.find(' ')\n",
    "    if index == -1 or index == 0:\n",
    "        index = string.find('（')\n",
    "    string = string[0:index]\n",
    "    train_df.iloc[i,0] = string\n",
    "    if len(string) <= 1:\n",
    "        ls.append(i)\n",
    "    elif '，' not in string:\n",
    "        lssmall.append(i)\n",
    "    else:\n",
    "        lssent.append(i)\n",
    "        \n",
    "t = train_df.loc[ls]\n",
    "print(t.shape,t.head(1))\n",
    "t2 = train_df.loc[lssmall]\n",
    "print(t2.shape,t2.head(1))\n",
    "t3 = train_df.loc[lssent]\n",
    "print(t3.shape,t3.head(1))"
   ]
  },
  {
   "cell_type": "code",
   "execution_count": 6,
   "metadata": {},
   "outputs": [],
   "source": [
    "def test_on_dataset(dataset):\n",
    "    accuracy = 0\n",
    "    accurate_index = []\n",
    "    for i in range(dataset.shape[0]):\n",
    "        row = dataset.iloc[i]\n",
    "        pred_scores, pred = cal_cz_best(row.riddle,[row.choice0,row.choice1,row.choice2,row.choice3,row.choice4])\n",
    "        if int(row.label) == pred:\n",
    "            accuracy += 1\n",
    "        else:\n",
    "            accurate_index.append(i)\n",
    "    return accuracy,dataset.shape[0],accuracy/dataset.shape[0]#dataset.iloc[accurate_index],"
   ]
  },
  {
   "cell_type": "code",
   "execution_count": 7,
   "metadata": {},
   "outputs": [
    {
     "name": "stdout",
     "output_type": "stream",
     "text": [
      "(58, 79, 0.7341772151898734)\n",
      "(719, 2434, 0.2953985209531635)\n",
      "(362, 1487, 0.24344317417619368)\n",
      "(1139, 4000, 0.28475)\n",
      "(131, 500, 0.262)\n"
     ]
    }
   ],
   "source": [
    "print(test_on_dataset(t))\n",
    "print(test_on_dataset(t2))\n",
    "print(test_on_dataset(t3))\n",
    "print(test_on_dataset(train_df))\n",
    "print(test_on_dataset(val_df))"
   ]
  },
  {
   "cell_type": "markdown",
   "metadata": {},
   "source": [
    "在测试集上测试"
   ]
  },
  {
   "cell_type": "code",
   "execution_count": 8,
   "metadata": {},
   "outputs": [
    {
     "name": "stdout",
     "output_type": "stream",
     "text": [
      "(2000, 6)\n",
      "(35, 6)    riddle choice0 choice1 choice2 choice3 choice4\n",
      "23      女   元和圣德诗    如出一口    古之遗直      异哉    杂然相许\n",
      "(1184, 6)   riddle choice0 choice1 choice2 choice3 choice4\n",
      "0  三思而后行     随大流   跟着感觉走    及时行乐    勇敢一点   做自己就好\n",
      "(781, 6)              riddle choice0 choice1 choice2 choice3 choice4\n",
      "1  黑缎子，白夹里，养儿养女泥窝里。     树袋熊      黑熊     蜘蛛蟹      知了      狗熊\n"
     ]
    }
   ],
   "source": [
    "test_df = pd.read_csv(test_csv,header=0,sep=',') #header=None表示头部为空，sep=','表示数据间使用逗号作为分隔符\n",
    "print(test_df.shape)\n",
    "\n",
    "ls=[]\n",
    "lssmall = []\n",
    "lssent = []\n",
    "\n",
    "for i in range(test_df.shape[0]):\n",
    "    string = test_df.iloc[i,0]\n",
    "    index = string.find(' ')\n",
    "    if index == -1 or index == 0:\n",
    "        index = string.find('（')\n",
    "    string = string[0:index]\n",
    "    test_df.iloc[i,0] = string\n",
    "    if len(string) <= 1:\n",
    "        ls.append(i)\n",
    "    elif '，' not in string:\n",
    "        lssmall.append(i)\n",
    "    else:\n",
    "        lssent.append(i)\n",
    "        \n",
    "\n",
    "t = test_df.loc[ls]\n",
    "print(t.shape,t.head(1))\n",
    "t2 = test_df.loc[lssmall]\n",
    "print(t2.shape,t2.head(1))\n",
    "t3 = test_df.loc[lssent]\n",
    "print(t3.shape,t3.head(1))"
   ]
  },
  {
   "cell_type": "code",
   "execution_count": 9,
   "metadata": {},
   "outputs": [],
   "source": [
    "def pred_on_dataset(dataset):\n",
    "    preds = []\n",
    "    for i in range(dataset.shape[0]):\n",
    "        row = dataset.iloc[i]\n",
    "        pred_scores, pred = test_cal_cz_best(row.riddle,[row.choice0,row.choice1,row.choice2,row.choice3,row.choice4])\n",
    "        preds.append(pred)\n",
    "    return preds"
   ]
  },
  {
   "cell_type": "code",
   "execution_count": 10,
   "metadata": {},
   "outputs": [],
   "source": [
    "res1 = pred_on_dataset(t)\n",
    "res2 = pred_on_dataset(t2)\n",
    "res3 = pred_on_dataset(t3)\n",
    "res = pred_on_dataset(test_df)\n"
   ]
  }
 ],
 "metadata": {
  "kernelspec": {
   "display_name": "Python 3",
   "language": "python",
   "name": "python3"
  },
  "language_info": {
   "codemirror_mode": {
    "name": "ipython",
    "version": 3
   },
   "file_extension": ".py",
   "mimetype": "text/x-python",
   "name": "python",
   "nbconvert_exporter": "python",
   "pygments_lexer": "ipython3",
   "version": "3.8.5"
  }
 },
 "nbformat": 4,
 "nbformat_minor": 4
}
